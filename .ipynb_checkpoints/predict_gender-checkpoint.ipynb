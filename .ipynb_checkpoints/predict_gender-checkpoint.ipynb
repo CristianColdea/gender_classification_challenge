{
 "cells": [
  {
   "cell_type": "code",
   "execution_count": 10,
   "metadata": {},
   "outputs": [
    {
     "name": "stdout",
     "output_type": "stream",
     "text": [
      "['male']\n",
      "['male']\n",
      "['male']\n",
      "['male']\n"
     ]
    }
   ],
   "source": [
    "from sklearn import tree\n",
    "from sklearn import neighbors\n",
    "from sklearn.ensemble import RandomForestClassifier, AdaBoostClassifier\n",
    "\n",
    "clf = tree.DecisionTreeClassifier()\n",
    "\n",
    "# CHALLENGE - create 3 more classifiers...\n",
    "clf2 = neighbors.KNeighborsClassifier(5)\n",
    "clf3 = RandomForestClassifier(n_estimators=5)\n",
    "clf4 = AdaBoostClassifier()\n",
    "\n",
    "# [height, weight, shoe_size]\n",
    "X = [[181, 80, 44], [177, 70, 43], [160, 60, 38], [154, 54, 37], [166, 65, 40],\n",
    "     [190, 90, 47], [175, 64, 39],\n",
    "     [177, 70, 40], [159, 55, 37], [171, 75, 42], [181, 85, 43]]\n",
    "\n",
    "Y = ['male', 'male', 'female', 'female', 'male', 'male', 'female', 'female',\n",
    "     'female', 'male', 'male']\n",
    "\n",
    "\n",
    "# CHALLENGE - ...and train them on our data\n",
    "clf = clf.fit(X, Y)\n",
    "clf2 = clf2.fit(X, Y)\n",
    "clf3 = clf3.fit(X, Y)\n",
    "clf4 = clf4.fit(X, Y)\n",
    "\n",
    "prediction = clf.predict([[190, 70, 43]])\n",
    "prediction2 = clf2.predict([[190, 70, 43]])\n",
    "prediction3 = clf3.predict([[190, 70, 43]])\n",
    "prediction4 = clf4.predict([[190, 70, 43]])\n",
    "\n",
    "# CHALLENGE compare their reusults and print the best one!\n",
    "\n",
    "print(prediction)\n",
    "print(prediction2)\n",
    "print(prediction3)\n",
    "print(prediction4)"
   ]
  },
  {
   "cell_type": "code",
   "execution_count": null,
   "metadata": {},
   "outputs": [],
   "source": []
  }
 ],
 "metadata": {
  "kernelspec": {
   "display_name": "Python [conda env:workML] *",
   "language": "python",
   "name": "conda-env-workML-py"
  },
  "language_info": {
   "codemirror_mode": {
    "name": "ipython",
    "version": 3
   },
   "file_extension": ".py",
   "mimetype": "text/x-python",
   "name": "python",
   "nbconvert_exporter": "python",
   "pygments_lexer": "ipython3",
   "version": "3.7.3"
  }
 },
 "nbformat": 4,
 "nbformat_minor": 2
}
